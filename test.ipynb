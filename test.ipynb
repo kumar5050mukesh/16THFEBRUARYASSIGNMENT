{
 "cells": [
  {
   "cell_type": "code",
   "execution_count": 2,
   "metadata": {},
   "outputs": [
    {
     "data": {
      "text/plain": [
       "'Q1. What is a database? Differentiate between SQL and NoSQL databases.\\nQ2. What is DDL? Explain why CREATE, DROP, ALTER, and TRUNCATE are used with an example.\\nQ3. What is DML? Explain INSERT, UPDATE, and DELETE with an example.\\nQ4. What is DQL? Explain SELECT with an example.\\nQ5. Explain Primary Key and Foreign Key.\\nQ6. Write a python code to connect MySQL to python. Explain the cursor() and execute() method.\\nQ7. Give the order of execution of SQL clauses in an SQL query.'"
      ]
     },
     "execution_count": 2,
     "metadata": {},
     "output_type": "execute_result"
    }
   ],
   "source": [
    "'''Q1. What is a database? Differentiate between SQL and NoSQL databases.\n",
    "Q2. What is DDL? Explain why CREATE, DROP, ALTER, and TRUNCATE are used with an example.\n",
    "Q3. What is DML? Explain INSERT, UPDATE, and DELETE with an example.\n",
    "Q4. What is DQL? Explain SELECT with an example.\n",
    "Q5. Explain Primary Key and Foreign Key.\n",
    "Q6. Write a python code to connect MySQL to python. Explain the cursor() and execute() method.\n",
    "Q7. Give the order of execution of SQL clauses in an SQL query.'''"
   ]
  },
  {
   "cell_type": "code",
   "execution_count": 3,
   "metadata": {},
   "outputs": [
    {
     "data": {
      "text/plain": [
       "'Ans (1) database is the structured collection of data so that data can be easily \\nstored ,retrieved and managed\\n\\ndatabase is the alternative system to the file collection in the office\\n\\nthe  sql is mainly used for the storage of structured data ie the data that can be stored in\\ntables while no sql may use key value pair or graphical method or other datamodel to store data\\n\\n\\nthe sql is uses the query language to retrieve data where as the no sql uses apis and other data models to\\nretrieve data\\n\\n\\nthe sql is not scalable where as the nosql is scalable \\n\\n\\nmostly used when there is consisteny in data where as nosql is used where there is no consistency in data'"
      ]
     },
     "execution_count": 3,
     "metadata": {},
     "output_type": "execute_result"
    }
   ],
   "source": [
    "'''..................................Ans (1).................................'''\n",
    "''' database is the structured collection of data so that data can be easily \n",
    "stored ,retrieved and managed\n",
    "\n",
    "database is the alternative system to the file collection in the office\n",
    "\n",
    "the  sql is mainly used for the storage of structured data ie the data that can be stored in\n",
    "tables while no sql may use key value pair or graphical method or other datamodel to store data\n",
    "\n",
    "\n",
    "the sql is uses the query language to retrieve data where as the no sql uses apis and other data models to\n",
    "retrieve data\n",
    "\n",
    "\n",
    "the sql is not scalable where as the nosql is scalable \n",
    "\n",
    "\n",
    "mostly used when there is consisteny in data where as nosql is used where there is no consistency in data'''\n"
   ]
  },
  {
   "cell_type": "code",
   "execution_count": 9,
   "metadata": {},
   "outputs": [
    {
     "name": "stdout",
     "output_type": "stream",
     "text": [
      "(1, 'mukesh', 'kumar')\n",
      "(1, 'mukesh', 'kumar')\n",
      "(1, 'mukesh', 'kumar')\n",
      "(1, 'mukesh', 'kumar')\n"
     ]
    }
   ],
   "source": [
    "'''..........................ANS(2).........................................'''\n",
    "'''DDL means data definition language, \n",
    " used to define the structure of a database   commands for creating, altering, \n",
    "and dropping database and tables  '''\n",
    "\n",
    "\n",
    "'''EXAMPLE OF CREATE'''\n",
    " \n",
    "\n",
    "import mysql.connector as sql\n",
    "mydb=sql.connect(\n",
    "    host='localhost',\n",
    "    username='abc',\n",
    "    password='krishna',\n",
    "    )\n",
    "mycursor=mydb.cursor()\n",
    "mycursor.execute(\"CREATE DATABASE IF NOT EXISTS db11\")\n",
    "mycursor.execute(\"CREATE TABLE IF NOT EXISTS db11.test1 (id INT,firstname VARCHAR(30),lastname VARCHAR(50))\")\n",
    "mycursor.execute(\"INSERT INTO db11.test1(id, firstname, lastname) VALUES(1, 'mukesh', 'kumar')\")\n",
    "mydb.commit()\n",
    "mycursor.execute(\"SELECT * FROM db11.test1\")\n",
    "rows=mycursor.fetchall()\n",
    "for row in rows:\n",
    "    print(row)\n"
   ]
  },
  {
   "cell_type": "code",
   "execution_count": 14,
   "metadata": {},
   "outputs": [],
   "source": [
    "'''EXAMPLE OF ALTER TABLE'''\n",
    "\n",
    "mycursor.execute(\"alter table  db11.test1 add column location varchar(30)\")\n",
    "mydb.commit()\n",
    "mycursor.execute(\"select * from db11.test1\")\n",
    "rows=mycursor.fetchall()\n"
   ]
  },
  {
   "cell_type": "code",
   "execution_count": 15,
   "metadata": {},
   "outputs": [
    {
     "name": "stdout",
     "output_type": "stream",
     "text": [
      "(1, 'mukesh', 'kumar', None, None)\n",
      "(1, 'mukesh', 'kumar', None, None)\n",
      "(1, 'mukesh', 'kumar', None, None)\n",
      "(1, 'mukesh', 'kumar', None, None)\n"
     ]
    }
   ],
   "source": [
    "for row in rows:\n",
    "    print(row)\n",
    "\n",
    "\n"
   ]
  },
  {
   "cell_type": "code",
   "execution_count": 16,
   "metadata": {},
   "outputs": [],
   "source": [
    "'''EXAPLE OF TRUNCATE '''\n",
    "\n",
    "import mysql.connector as sql\n",
    "mydb=sql.connect(\n",
    "    host='localhost',\n",
    "    username='abc',\n",
    "    password='krishna',\n",
    "    \n",
    "\n",
    ")\n",
    "\n",
    "\n",
    "mycursor=mydb.cursor()\n",
    "'''truncate is used to remove all the data from the database'''\n",
    "mycursor.execute(\"TRUNCATE TABLE db11.test1\")\n",
    "mycursor.execute(\"select*from db11.test1\")\n",
    "rows=mycursor.fetchall()\n",
    "for row in rows:\n",
    "    print(row)"
   ]
  },
  {
   "cell_type": "code",
   "execution_count": 3,
   "metadata": {},
   "outputs": [
    {
     "data": {
      "text/plain": [
       "'now the test 1 table has been dropped'"
      ]
     },
     "execution_count": 3,
     "metadata": {},
     "output_type": "execute_result"
    }
   ],
   "source": [
    "'''EXAMPLE OF DROP '''\n",
    "\n",
    "import mysql.connector as sql\n",
    "mydb=sql.connect(\n",
    "    host='localhost',\n",
    "    username='abc',\n",
    "    password='krishna',\n",
    "    \n",
    "\n",
    ")\n",
    "\n",
    "\n",
    "mycursor=mydb.cursor()\n",
    "mycursor.execute(\"drop table db11.test1\")\n",
    "\n",
    "'''now the test 1 table has been dropped'''\n",
    "\n"
   ]
  },
  {
   "cell_type": "code",
   "execution_count": 4,
   "metadata": {},
   "outputs": [],
   "source": [
    "'''..............................ANS(3)..................................................'''\n",
    "\n",
    "'''What is DML? Explain INSERT, UPDATE, and DELETE with an example'''\n",
    "'''INSERT'''\n",
    "mycursor.execute(\"CREATE TABLE db11.test2 (id INT, firstname VARCHAR(30), lastname VARCHAR(50))\")\n",
    "mycursor.execute(\"INSERT INTO db11.test2(id, firstname, lastname) VALUES(1, 'ROHIT', 'kumar')\")\n",
    "mycursor.execute(\"INSERT INTO db11.test2(id, firstname, lastname) VALUES(2, 'SONIT', 'kumar')\")\n",
    "mycursor.execute(\"INSERT INTO db11.test2(id, firstname, lastname) VALUES(3, 'GONIT', 'kumar')\")"
   ]
  },
  {
   "cell_type": "code",
   "execution_count": 6,
   "metadata": {},
   "outputs": [
    {
     "name": "stdout",
     "output_type": "stream",
     "text": [
      "(1, 'ROHIT', 'kumar')\n",
      "(2, 'SONIT', 'kumar')\n",
      "(3, 'GONIT', 'kumar')\n"
     ]
    }
   ],
   "source": [
    "mycursor.execute(\"SELECT * FROM db11.test2\")\n",
    "rows=mycursor.fetchall()\n",
    "for i  in rows:\n",
    "    print(i)"
   ]
  },
  {
   "cell_type": "code",
   "execution_count": 7,
   "metadata": {},
   "outputs": [],
   "source": [
    "'''UPDATE'''\n",
    "\n",
    "mycursor.execute(\"UPDATE db11.test2 SET firstname = 'Mukesh Kumar' WHERE id = 1\")\n"
   ]
  },
  {
   "cell_type": "code",
   "execution_count": 8,
   "metadata": {},
   "outputs": [
    {
     "name": "stdout",
     "output_type": "stream",
     "text": [
      "(1, 'Mukesh Kumar', 'kumar')\n",
      "(2, 'SONIT', 'kumar')\n",
      "(3, 'GONIT', 'kumar')\n"
     ]
    }
   ],
   "source": [
    "mycursor.execute(\"SELECT * FROM db11.test2\")\n",
    "rows=mycursor.fetchall()\n",
    "for i  in rows:\n",
    "    print(i)"
   ]
  },
  {
   "cell_type": "code",
   "execution_count": 11,
   "metadata": {},
   "outputs": [],
   "source": [
    "mycursor.execute(\"delete from  db11.test2 where id = 1\")\n"
   ]
  },
  {
   "cell_type": "code",
   "execution_count": 12,
   "metadata": {},
   "outputs": [
    {
     "name": "stdout",
     "output_type": "stream",
     "text": [
      "(2, 'SONIT', 'kumar')\n",
      "(3, 'GONIT', 'kumar')\n"
     ]
    }
   ],
   "source": [
    "'''delete'''\n",
    "\n",
    "mycursor.execute(\"SELECT * FROM db11.test2\")\n",
    "rows=mycursor.fetchall()\n",
    "for i  in rows:\n",
    "    print(i)"
   ]
  },
  {
   "cell_type": "code",
   "execution_count": 13,
   "metadata": {},
   "outputs": [
    {
     "name": "stdout",
     "output_type": "stream",
     "text": [
      "(2, 'SONIT', 'kumar')\n",
      "(3, 'GONIT', 'kumar')\n"
     ]
    }
   ],
   "source": [
    "'''...................ANSWER 4..........................................'''\n",
    "\n",
    "\n",
    "'''dql stands for the data query language it is used to query the database for some condition '''\n",
    "\n",
    "mycursor.execute(\"SELECT * FROM db11.test2\")\n",
    "rows=mycursor.fetchall()\n",
    "for i  in rows:\n",
    "    print(i)\n"
   ]
  },
  {
   "cell_type": "code",
   "execution_count": 14,
   "metadata": {},
   "outputs": [
    {
     "data": {
      "text/plain": [
       "'primary key is used to identify the unique rows in the table .it helps in distinguishing one row from \\nthe other primary key is unique and is identified with unique row\\n\\nforeign key is set of columns that refer to the primary key of another table thus foreign key is used in \\nestablishing connection '"
      ]
     },
     "execution_count": 14,
     "metadata": {},
     "output_type": "execute_result"
    }
   ],
   "source": [
    "'''......................ANS(5)...............................................'''\n",
    "\n",
    "'''Explain Primary Key and Foreign Key.'''\n",
    "\n",
    "'''primary key is used to identify the unique rows in the table .it helps in distinguishing one row from \n",
    "the other primary key is unique and is identified with unique row\n",
    "\n",
    "foreign key is set of columns that refer to the primary key of another table thus foreign key is used in \n",
    "establishing connection '''"
   ]
  },
  {
   "cell_type": "code",
   "execution_count": 5,
   "metadata": {},
   "outputs": [],
   "source": [
    "'''................................ANS(6).....................................................'''\n",
    "''' Write a python code to connect MySQL to python. Explain the cursor() and execute() method.'''\n",
    "\n",
    "import mysql.connector\n",
    "\n",
    "mydb = mysql.connector.connect(\n",
    "  host=\"localhost\",\n",
    "  user=\"abc\",\n",
    "  password=\"krishna\",\n",
    "  database=\"db11\"\n",
    ")\n",
    "\n",
    "mycursor = mydb.cursor()\n",
    "\n",
    "mycursor.execute(\"SELECT * FROM test2\")\n",
    "\n",
    "rows = mycursor.fetchall()\n",
    "\n",
    "for row in rows:\n",
    "    print(row)\n"
   ]
  },
  {
   "cell_type": "code",
   "execution_count": null,
   "metadata": {},
   "outputs": [],
   "source": [
    "'''................................ANS(7)............................'''\n",
    "\n",
    "''' order of execution of SQL clauses in an SQL query ias follows'''\n",
    "\n",
    "\n",
    "FROM\n",
    "\n",
    "JOIN\n",
    "\n",
    "WHERE \n",
    "\n",
    "GROUP BY\n",
    "\n",
    "HAVING\n",
    "\n",
    "SELECT\n",
    "\n",
    "DISTINCT\n",
    "\n",
    "ORDER BY \n",
    "\n",
    "LIMIT "
   ]
  }
 ],
 "metadata": {
  "kernelspec": {
   "display_name": "Python 3",
   "language": "python",
   "name": "python3"
  },
  "language_info": {
   "codemirror_mode": {
    "name": "ipython",
    "version": 3
   },
   "file_extension": ".py",
   "mimetype": "text/x-python",
   "name": "python",
   "nbconvert_exporter": "python",
   "pygments_lexer": "ipython3",
   "version": "3.11.1"
  },
  "orig_nbformat": 4,
  "vscode": {
   "interpreter": {
    "hash": "5238573367df39f7286bb46f9ff5f08f63a01a80960060ce41e3c79b190280fa"
   }
  }
 },
 "nbformat": 4,
 "nbformat_minor": 2
}
